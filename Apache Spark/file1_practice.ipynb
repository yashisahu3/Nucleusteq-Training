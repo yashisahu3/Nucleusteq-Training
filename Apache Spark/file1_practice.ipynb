{
 "cells": [
  {
   "cell_type": "code",
   "execution_count": 1,
   "id": "f4c608c3",
   "metadata": {},
   "outputs": [],
   "source": [
    "#Creating Spark session\n",
    "from pyspark.sql import SparkSession\n",
    "spark=SparkSession.builder.appName(\"Practice App\").getOrCreate()"
   ]
  },
  {
   "cell_type": "code",
   "execution_count": 2,
   "id": "ea6d5450",
   "metadata": {},
   "outputs": [],
   "source": [
    "#Reading a CSV file in spark\n",
    "dataframe=spark.read.csv(header=True,path=\"C://Users//dell//Downloads//unique-passenger-counts-over-100-by-NZ-port-and-citizenship-year-ended-june-2020.csv\")"
   ]
  },
  {
   "cell_type": "code",
   "execution_count": 3,
   "id": "cde53b14",
   "metadata": {},
   "outputs": [
    {
     "name": "stdout",
     "output_type": "stream",
     "text": [
      "root\n",
      " |-- NZ Port: string (nullable = true)\n",
      " |-- Citizenship: string (nullable = true)\n",
      " |-- Count: string (nullable = true)\n",
      " |-- Year: string (nullable = true)\n",
      "\n"
     ]
    }
   ],
   "source": [
    "#printing schema of datatframe i.e. column names and its datatypes\n",
    "dataframe.printSchema()"
   ]
  },
  {
   "cell_type": "code",
   "execution_count": 4,
   "id": "0900877e",
   "metadata": {},
   "outputs": [
    {
     "name": "stdout",
     "output_type": "stream",
     "text": [
      "root\n",
      " |-- NZ Port: string (nullable = true)\n",
      " |-- Citizenship: string (nullable = true)\n",
      " |-- Count: integer (nullable = true)\n",
      " |-- Year: integer (nullable = true)\n",
      "\n"
     ]
    }
   ],
   "source": [
    "dataframe=spark.read.csv(header=True,path=\"C://Users//dell//Downloads//unique-passenger-counts-over-100-by-NZ-port-and-citizenship-year-ended-june-2020.csv\",\n",
    "                        inferSchema=True)\n",
    "dataframe.printSchema()"
   ]
  },
  {
   "cell_type": "code",
   "execution_count": 5,
   "id": "8733adae",
   "metadata": {},
   "outputs": [],
   "source": [
    "#metadata information"
   ]
  },
  {
   "cell_type": "code",
   "execution_count": 6,
   "id": "595e3e8d",
   "metadata": {},
   "outputs": [
    {
     "name": "stdout",
     "output_type": "stream",
     "text": [
      "['NZ Port', 'Citizenship', 'Count', 'Year']\n"
     ]
    }
   ],
   "source": [
    "#printing list of columns\n",
    "columns=dataframe.columns\n",
    "print(columns)"
   ]
  },
  {
   "cell_type": "code",
   "execution_count": 7,
   "id": "cb3a6512",
   "metadata": {},
   "outputs": [
    {
     "name": "stdout",
     "output_type": "stream",
     "text": [
      "2094\n"
     ]
    }
   ],
   "source": [
    "#printing number of rows in dataframe\n",
    "number_of_rows=dataframe.count()\n",
    "print(number_of_rows)"
   ]
  },
  {
   "cell_type": "code",
   "execution_count": 8,
   "id": "9d08a089",
   "metadata": {},
   "outputs": [
    {
     "data": {
      "text/plain": [
       "Row(NZ Port='Akaroa', Citizenship='Australia', Count=73145, Year=2015)"
      ]
     },
     "execution_count": 8,
     "metadata": {},
     "output_type": "execute_result"
    }
   ],
   "source": [
    "#printing first row of dataframe\n",
    "dataframe.head()"
   ]
  },
  {
   "cell_type": "code",
   "execution_count": 10,
   "id": "754d5057",
   "metadata": {},
   "outputs": [
    {
     "data": {
      "text/plain": [
       "[Row(NZ Port='Wellington', Citizenship='Total', Count=161335, Year=2016),\n",
       " Row(NZ Port='Wellington', Citizenship='Total', Count=163871, Year=2017),\n",
       " Row(NZ Port='Wellington', Citizenship='Total', Count=162223, Year=2018),\n",
       " Row(NZ Port='Wellington', Citizenship='Total', Count=222448, Year=2019),\n",
       " Row(NZ Port='Wellington', Citizenship='Total', Count=190754, Year=2020)]"
      ]
     },
     "execution_count": 10,
     "metadata": {},
     "output_type": "execute_result"
    }
   ],
   "source": [
    "#printing last 5 rows of dataframe\n",
    "dataframe.tail(5)"
   ]
  },
  {
   "cell_type": "code",
   "execution_count": 11,
   "id": "35ebe9b4",
   "metadata": {},
   "outputs": [
    {
     "data": {
      "text/plain": [
       "False"
      ]
     },
     "execution_count": 11,
     "metadata": {},
     "output_type": "execute_result"
    }
   ],
   "source": [
    "#To check if the dataframe is empty or holds data\n",
    "dataframe.isEmpty()"
   ]
  },
  {
   "cell_type": "code",
   "execution_count": 12,
   "id": "3cc7746f",
   "metadata": {},
   "outputs": [
    {
     "name": "stdout",
     "output_type": "stream",
     "text": [
      "== Physical Plan ==\n",
      "FileScan csv [NZ Port#42,Citizenship#43,Count#44,Year#45] Batched: false, DataFilters: [], Format: CSV, Location: InMemoryFileIndex(1 paths)[file:/C:/Users/dell/Downloads/unique-passenger-counts-over-100-by-NZ-p..., PartitionFilters: [], PushedFilters: [], ReadSchema: struct<NZ Port:string,Citizenship:string,Count:int,Year:int>\n",
      "\n",
      "\n"
     ]
    }
   ],
   "source": [
    "dataframe.explain()"
   ]
  },
  {
   "cell_type": "code",
   "execution_count": 14,
   "id": "e3137f25",
   "metadata": {},
   "outputs": [
    {
     "data": {
      "text/plain": [
       "2094"
      ]
     },
     "execution_count": 14,
     "metadata": {},
     "output_type": "execute_result"
    }
   ],
   "source": [
    "#printing number of unique records\n",
    "dataframe.distinct().count()"
   ]
  },
  {
   "cell_type": "code",
   "execution_count": 15,
   "id": "50a8f920",
   "metadata": {},
   "outputs": [
    {
     "name": "stdout",
     "output_type": "stream",
     "text": [
      "+-------+--------------------+-----+----+\n",
      "|NZ Port|         Citizenship|Count|Year|\n",
      "+-------+--------------------+-----+----+\n",
      "| Akaroa|           Australia|73145|2015|\n",
      "| Akaroa|             Austria|  125|2015|\n",
      "| Akaroa|             Belgium|  158|2015|\n",
      "| Akaroa|              Brazil|  314|2015|\n",
      "| Akaroa|              Canada| 4522|2015|\n",
      "| Akaroa|China, Peoples Re...| 1507|2015|\n",
      "| Akaroa|             Denmark|  143|2015|\n",
      "| Akaroa|              France|  266|2015|\n",
      "| Akaroa|             Germany| 1202|2015|\n",
      "| Akaroa|Hong Kong (Specia...|  417|2015|\n",
      "| Akaroa|               India|  118|2015|\n",
      "| Akaroa|             Ireland|  176|2015|\n",
      "| Akaroa|              Israel|  243|2015|\n",
      "| Akaroa|               Italy|  234|2015|\n",
      "| Akaroa|               Japan|  845|2015|\n",
      "| Akaroa|            Malaysia|  342|2015|\n",
      "| Akaroa|              Mexico|  439|2015|\n",
      "| Akaroa|         Netherlands|  383|2015|\n",
      "| Akaroa|         New Zealand| 6294|2015|\n",
      "| Akaroa|         Philippines|  145|2015|\n",
      "+-------+--------------------+-----+----+\n",
      "only showing top 20 rows\n",
      "\n"
     ]
    }
   ],
   "source": [
    "dataframe.show()"
   ]
  },
  {
   "cell_type": "code",
   "execution_count": 16,
   "id": "7563213a",
   "metadata": {},
   "outputs": [
    {
     "data": {
      "text/plain": [
       "282"
      ]
     },
     "execution_count": 16,
     "metadata": {},
     "output_type": "execute_result"
    }
   ],
   "source": [
    "#Counting number of rows with year as 2015 in dataframe\n",
    "dataframe.select(dataframe['year']).where(dataframe['year']==2015).count()"
   ]
  },
  {
   "cell_type": "code",
   "execution_count": null,
   "id": "effa7d9d",
   "metadata": {},
   "outputs": [],
   "source": []
  }
 ],
 "metadata": {
  "kernelspec": {
   "display_name": "Python 3 (ipykernel)",
   "language": "python",
   "name": "python3"
  },
  "language_info": {
   "codemirror_mode": {
    "name": "ipython",
    "version": 3
   },
   "file_extension": ".py",
   "mimetype": "text/x-python",
   "name": "python",
   "nbconvert_exporter": "python",
   "pygments_lexer": "ipython3",
   "version": "3.9.5"
  }
 },
 "nbformat": 4,
 "nbformat_minor": 5
}
