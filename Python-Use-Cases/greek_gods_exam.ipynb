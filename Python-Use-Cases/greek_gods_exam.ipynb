{
 "cells": [
  {
   "cell_type": "code",
   "execution_count": 3,
   "id": "ecbe5b26",
   "metadata": {},
   "outputs": [],
   "source": [
    "import pandas as pd"
   ]
  },
  {
   "cell_type": "code",
   "execution_count": 4,
   "id": "b9a7aaea",
   "metadata": {},
   "outputs": [],
   "source": [
    "gods_df={'Name':['Zeus','Poseidon','Hera','Athena','Hades'],\n",
    "         'Domain':['King of the Gods','God of the Sea','Queen of the Gods','Goddess of Wisdom','God of the Underworld'],\n",
    "         'Symbol':['Thunderbolt','Trident','Peacock','Owl','Helmet'],\n",
    "         'Age':[10000,9000,8500,8000,9500]\n",
    "        }"
   ]
  },
  {
   "cell_type": "code",
   "execution_count": 5,
   "id": "b6f812be",
   "metadata": {},
   "outputs": [],
   "source": [
    "greek_gods=pd.DataFrame(gods_df)"
   ]
  },
  {
   "cell_type": "code",
   "execution_count": 6,
   "id": "618d3dbe",
   "metadata": {},
   "outputs": [
    {
     "data": {
      "text/html": [
       "<div>\n",
       "<style scoped>\n",
       "    .dataframe tbody tr th:only-of-type {\n",
       "        vertical-align: middle;\n",
       "    }\n",
       "\n",
       "    .dataframe tbody tr th {\n",
       "        vertical-align: top;\n",
       "    }\n",
       "\n",
       "    .dataframe thead th {\n",
       "        text-align: right;\n",
       "    }\n",
       "</style>\n",
       "<table border=\"1\" class=\"dataframe\">\n",
       "  <thead>\n",
       "    <tr style=\"text-align: right;\">\n",
       "      <th></th>\n",
       "      <th>Name</th>\n",
       "      <th>Domain</th>\n",
       "      <th>Symbol</th>\n",
       "      <th>Age</th>\n",
       "    </tr>\n",
       "  </thead>\n",
       "  <tbody>\n",
       "    <tr>\n",
       "      <th>0</th>\n",
       "      <td>Zeus</td>\n",
       "      <td>King of the Gods</td>\n",
       "      <td>Thunderbolt</td>\n",
       "      <td>10000</td>\n",
       "    </tr>\n",
       "    <tr>\n",
       "      <th>1</th>\n",
       "      <td>Poseidon</td>\n",
       "      <td>God of the Sea</td>\n",
       "      <td>Trident</td>\n",
       "      <td>9000</td>\n",
       "    </tr>\n",
       "    <tr>\n",
       "      <th>2</th>\n",
       "      <td>Hera</td>\n",
       "      <td>Queen of the Gods</td>\n",
       "      <td>Peacock</td>\n",
       "      <td>8500</td>\n",
       "    </tr>\n",
       "    <tr>\n",
       "      <th>3</th>\n",
       "      <td>Athena</td>\n",
       "      <td>Goddess of Wisdom</td>\n",
       "      <td>Owl</td>\n",
       "      <td>8000</td>\n",
       "    </tr>\n",
       "    <tr>\n",
       "      <th>4</th>\n",
       "      <td>Hades</td>\n",
       "      <td>God of the Underworld</td>\n",
       "      <td>Helmet</td>\n",
       "      <td>9500</td>\n",
       "    </tr>\n",
       "  </tbody>\n",
       "</table>\n",
       "</div>"
      ],
      "text/plain": [
       "       Name                 Domain       Symbol    Age\n",
       "0      Zeus       King of the Gods  Thunderbolt  10000\n",
       "1  Poseidon         God of the Sea      Trident   9000\n",
       "2      Hera      Queen of the Gods      Peacock   8500\n",
       "3    Athena      Goddess of Wisdom          Owl   8000\n",
       "4     Hades  God of the Underworld       Helmet   9500"
      ]
     },
     "execution_count": 6,
     "metadata": {},
     "output_type": "execute_result"
    }
   ],
   "source": [
    "greek_gods\n"
   ]
  },
  {
   "cell_type": "code",
   "execution_count": 7,
   "id": "cae7fa54",
   "metadata": {},
   "outputs": [],
   "source": [
    "goddess_df={'Name':['Aphrodite','Artemis','Demeter','Hestia','Persephone'],\n",
    "           'Domain':['Goddess of Love','Goddess of the Hunt','Goddess of Agriculture','Goddess of the Hearth','Queen of the Underworld'],\n",
    "           'Symbol':['Dove','Bow and Arrow','Wheat','Fire','Pomegranate'],\n",
    "           'Age':[7000,7500,8000,8200,7800]\n",
    "           }"
   ]
  },
  {
   "cell_type": "code",
   "execution_count": 8,
   "id": "2882cf4d",
   "metadata": {},
   "outputs": [],
   "source": [
    "greek_goddess=pd.DataFrame(goddess_df)"
   ]
  },
  {
   "cell_type": "code",
   "execution_count": 9,
   "id": "21ff1513",
   "metadata": {},
   "outputs": [
    {
     "data": {
      "text/html": [
       "<div>\n",
       "<style scoped>\n",
       "    .dataframe tbody tr th:only-of-type {\n",
       "        vertical-align: middle;\n",
       "    }\n",
       "\n",
       "    .dataframe tbody tr th {\n",
       "        vertical-align: top;\n",
       "    }\n",
       "\n",
       "    .dataframe thead th {\n",
       "        text-align: right;\n",
       "    }\n",
       "</style>\n",
       "<table border=\"1\" class=\"dataframe\">\n",
       "  <thead>\n",
       "    <tr style=\"text-align: right;\">\n",
       "      <th></th>\n",
       "      <th>Name</th>\n",
       "      <th>Domain</th>\n",
       "      <th>Symbol</th>\n",
       "      <th>Age</th>\n",
       "    </tr>\n",
       "  </thead>\n",
       "  <tbody>\n",
       "    <tr>\n",
       "      <th>0</th>\n",
       "      <td>Aphrodite</td>\n",
       "      <td>Goddess of Love</td>\n",
       "      <td>Dove</td>\n",
       "      <td>7000</td>\n",
       "    </tr>\n",
       "    <tr>\n",
       "      <th>1</th>\n",
       "      <td>Artemis</td>\n",
       "      <td>Goddess of the Hunt</td>\n",
       "      <td>Bow and Arrow</td>\n",
       "      <td>7500</td>\n",
       "    </tr>\n",
       "    <tr>\n",
       "      <th>2</th>\n",
       "      <td>Demeter</td>\n",
       "      <td>Goddess of Agriculture</td>\n",
       "      <td>Wheat</td>\n",
       "      <td>8000</td>\n",
       "    </tr>\n",
       "    <tr>\n",
       "      <th>3</th>\n",
       "      <td>Hestia</td>\n",
       "      <td>Goddess of the Hearth</td>\n",
       "      <td>Fire</td>\n",
       "      <td>8200</td>\n",
       "    </tr>\n",
       "    <tr>\n",
       "      <th>4</th>\n",
       "      <td>Persephone</td>\n",
       "      <td>Queen of the Underworld</td>\n",
       "      <td>Pomegranate</td>\n",
       "      <td>7800</td>\n",
       "    </tr>\n",
       "  </tbody>\n",
       "</table>\n",
       "</div>"
      ],
      "text/plain": [
       "         Name                   Domain         Symbol   Age\n",
       "0   Aphrodite          Goddess of Love           Dove  7000\n",
       "1     Artemis      Goddess of the Hunt  Bow and Arrow  7500\n",
       "2     Demeter   Goddess of Agriculture          Wheat  8000\n",
       "3      Hestia    Goddess of the Hearth           Fire  8200\n",
       "4  Persephone  Queen of the Underworld    Pomegranate  7800"
      ]
     },
     "execution_count": 9,
     "metadata": {},
     "output_type": "execute_result"
    }
   ],
   "source": [
    "greek_goddess"
   ]
  },
  {
   "cell_type": "code",
   "execution_count": 10,
   "id": "bf71e1c1",
   "metadata": {},
   "outputs": [],
   "source": [
    "#Question1 Merge the data"
   ]
  },
  {
   "cell_type": "code",
   "execution_count": 11,
   "id": "475bd102",
   "metadata": {},
   "outputs": [],
   "source": [
    "merged_df=pd.merge(greek_gods,greek_goddess,how='outer')"
   ]
  },
  {
   "cell_type": "code",
   "execution_count": 12,
   "id": "f1257758",
   "metadata": {},
   "outputs": [
    {
     "data": {
      "text/html": [
       "<div>\n",
       "<style scoped>\n",
       "    .dataframe tbody tr th:only-of-type {\n",
       "        vertical-align: middle;\n",
       "    }\n",
       "\n",
       "    .dataframe tbody tr th {\n",
       "        vertical-align: top;\n",
       "    }\n",
       "\n",
       "    .dataframe thead th {\n",
       "        text-align: right;\n",
       "    }\n",
       "</style>\n",
       "<table border=\"1\" class=\"dataframe\">\n",
       "  <thead>\n",
       "    <tr style=\"text-align: right;\">\n",
       "      <th></th>\n",
       "      <th>Name</th>\n",
       "      <th>Domain</th>\n",
       "      <th>Symbol</th>\n",
       "      <th>Age</th>\n",
       "    </tr>\n",
       "  </thead>\n",
       "  <tbody>\n",
       "    <tr>\n",
       "      <th>0</th>\n",
       "      <td>Zeus</td>\n",
       "      <td>King of the Gods</td>\n",
       "      <td>Thunderbolt</td>\n",
       "      <td>10000</td>\n",
       "    </tr>\n",
       "    <tr>\n",
       "      <th>1</th>\n",
       "      <td>Poseidon</td>\n",
       "      <td>God of the Sea</td>\n",
       "      <td>Trident</td>\n",
       "      <td>9000</td>\n",
       "    </tr>\n",
       "    <tr>\n",
       "      <th>2</th>\n",
       "      <td>Hera</td>\n",
       "      <td>Queen of the Gods</td>\n",
       "      <td>Peacock</td>\n",
       "      <td>8500</td>\n",
       "    </tr>\n",
       "    <tr>\n",
       "      <th>3</th>\n",
       "      <td>Athena</td>\n",
       "      <td>Goddess of Wisdom</td>\n",
       "      <td>Owl</td>\n",
       "      <td>8000</td>\n",
       "    </tr>\n",
       "    <tr>\n",
       "      <th>4</th>\n",
       "      <td>Hades</td>\n",
       "      <td>God of the Underworld</td>\n",
       "      <td>Helmet</td>\n",
       "      <td>9500</td>\n",
       "    </tr>\n",
       "    <tr>\n",
       "      <th>5</th>\n",
       "      <td>Aphrodite</td>\n",
       "      <td>Goddess of Love</td>\n",
       "      <td>Dove</td>\n",
       "      <td>7000</td>\n",
       "    </tr>\n",
       "    <tr>\n",
       "      <th>6</th>\n",
       "      <td>Artemis</td>\n",
       "      <td>Goddess of the Hunt</td>\n",
       "      <td>Bow and Arrow</td>\n",
       "      <td>7500</td>\n",
       "    </tr>\n",
       "    <tr>\n",
       "      <th>7</th>\n",
       "      <td>Demeter</td>\n",
       "      <td>Goddess of Agriculture</td>\n",
       "      <td>Wheat</td>\n",
       "      <td>8000</td>\n",
       "    </tr>\n",
       "    <tr>\n",
       "      <th>8</th>\n",
       "      <td>Hestia</td>\n",
       "      <td>Goddess of the Hearth</td>\n",
       "      <td>Fire</td>\n",
       "      <td>8200</td>\n",
       "    </tr>\n",
       "    <tr>\n",
       "      <th>9</th>\n",
       "      <td>Persephone</td>\n",
       "      <td>Queen of the Underworld</td>\n",
       "      <td>Pomegranate</td>\n",
       "      <td>7800</td>\n",
       "    </tr>\n",
       "  </tbody>\n",
       "</table>\n",
       "</div>"
      ],
      "text/plain": [
       "         Name                   Domain         Symbol    Age\n",
       "0        Zeus         King of the Gods    Thunderbolt  10000\n",
       "1    Poseidon           God of the Sea        Trident   9000\n",
       "2        Hera        Queen of the Gods        Peacock   8500\n",
       "3      Athena        Goddess of Wisdom            Owl   8000\n",
       "4       Hades    God of the Underworld         Helmet   9500\n",
       "5   Aphrodite          Goddess of Love           Dove   7000\n",
       "6     Artemis      Goddess of the Hunt  Bow and Arrow   7500\n",
       "7     Demeter   Goddess of Agriculture          Wheat   8000\n",
       "8      Hestia    Goddess of the Hearth           Fire   8200\n",
       "9  Persephone  Queen of the Underworld    Pomegranate   7800"
      ]
     },
     "execution_count": 12,
     "metadata": {},
     "output_type": "execute_result"
    }
   ],
   "source": [
    "merged_df"
   ]
  },
  {
   "cell_type": "code",
   "execution_count": 13,
   "id": "a0dd1673",
   "metadata": {},
   "outputs": [],
   "source": [
    "#Question2 Filter the merger table"
   ]
  },
  {
   "cell_type": "code",
   "execution_count": 14,
   "id": "0c99b21a",
   "metadata": {},
   "outputs": [],
   "source": [
    "task2=merged_df[merged_df['Age']>8000].sort_values(by='Age',ascending=False).reset_index(drop=True)"
   ]
  },
  {
   "cell_type": "code",
   "execution_count": 15,
   "id": "1f241eda",
   "metadata": {},
   "outputs": [
    {
     "data": {
      "text/html": [
       "<div>\n",
       "<style scoped>\n",
       "    .dataframe tbody tr th:only-of-type {\n",
       "        vertical-align: middle;\n",
       "    }\n",
       "\n",
       "    .dataframe tbody tr th {\n",
       "        vertical-align: top;\n",
       "    }\n",
       "\n",
       "    .dataframe thead th {\n",
       "        text-align: right;\n",
       "    }\n",
       "</style>\n",
       "<table border=\"1\" class=\"dataframe\">\n",
       "  <thead>\n",
       "    <tr style=\"text-align: right;\">\n",
       "      <th></th>\n",
       "      <th>Name</th>\n",
       "      <th>Domain</th>\n",
       "      <th>Symbol</th>\n",
       "      <th>Age</th>\n",
       "    </tr>\n",
       "  </thead>\n",
       "  <tbody>\n",
       "    <tr>\n",
       "      <th>0</th>\n",
       "      <td>Zeus</td>\n",
       "      <td>King of the Gods</td>\n",
       "      <td>Thunderbolt</td>\n",
       "      <td>10000</td>\n",
       "    </tr>\n",
       "    <tr>\n",
       "      <th>1</th>\n",
       "      <td>Hades</td>\n",
       "      <td>God of the Underworld</td>\n",
       "      <td>Helmet</td>\n",
       "      <td>9500</td>\n",
       "    </tr>\n",
       "    <tr>\n",
       "      <th>2</th>\n",
       "      <td>Poseidon</td>\n",
       "      <td>God of the Sea</td>\n",
       "      <td>Trident</td>\n",
       "      <td>9000</td>\n",
       "    </tr>\n",
       "    <tr>\n",
       "      <th>3</th>\n",
       "      <td>Hera</td>\n",
       "      <td>Queen of the Gods</td>\n",
       "      <td>Peacock</td>\n",
       "      <td>8500</td>\n",
       "    </tr>\n",
       "    <tr>\n",
       "      <th>4</th>\n",
       "      <td>Hestia</td>\n",
       "      <td>Goddess of the Hearth</td>\n",
       "      <td>Fire</td>\n",
       "      <td>8200</td>\n",
       "    </tr>\n",
       "  </tbody>\n",
       "</table>\n",
       "</div>"
      ],
      "text/plain": [
       "       Name                 Domain       Symbol    Age\n",
       "0      Zeus       King of the Gods  Thunderbolt  10000\n",
       "1     Hades  God of the Underworld       Helmet   9500\n",
       "2  Poseidon         God of the Sea      Trident   9000\n",
       "3      Hera      Queen of the Gods      Peacock   8500\n",
       "4    Hestia  Goddess of the Hearth         Fire   8200"
      ]
     },
     "execution_count": 15,
     "metadata": {},
     "output_type": "execute_result"
    }
   ],
   "source": [
    "task2"
   ]
  },
  {
   "cell_type": "code",
   "execution_count": 16,
   "id": "4c072b8d",
   "metadata": {},
   "outputs": [],
   "source": [
    "#Question3"
   ]
  },
  {
   "cell_type": "code",
   "execution_count": 17,
   "id": "5fc2a4ba",
   "metadata": {},
   "outputs": [],
   "source": [
    "task3=merged_df.groupby('Domain')['Age'].mean()"
   ]
  },
  {
   "cell_type": "code",
   "execution_count": 18,
   "id": "e3d58df4",
   "metadata": {},
   "outputs": [
    {
     "data": {
      "text/plain": [
       "Domain\n",
       "God of the Sea              9000.0\n",
       "God of the Underworld       9500.0\n",
       "Goddess of Agriculture      8000.0\n",
       "Goddess of Love             7000.0\n",
       "Goddess of Wisdom           8000.0\n",
       "Goddess of the Hearth       8200.0\n",
       "Goddess of the Hunt         7500.0\n",
       "King of the Gods           10000.0\n",
       "Queen of the Gods           8500.0\n",
       "Queen of the Underworld     7800.0\n",
       "Name: Age, dtype: float64"
      ]
     },
     "execution_count": 18,
     "metadata": {},
     "output_type": "execute_result"
    }
   ],
   "source": [
    "task3"
   ]
  },
  {
   "cell_type": "code",
   "execution_count": 19,
   "id": "170f5b37",
   "metadata": {},
   "outputs": [],
   "source": [
    "#Question4"
   ]
  },
  {
   "cell_type": "code",
   "execution_count": 20,
   "id": "cbc28ab7",
   "metadata": {},
   "outputs": [],
   "source": [
    "task4=merged_df.sort_values(by='Age',ascending=False).head(1)"
   ]
  },
  {
   "cell_type": "code",
   "execution_count": 21,
   "id": "50b4e549",
   "metadata": {},
   "outputs": [
    {
     "data": {
      "text/html": [
       "<div>\n",
       "<style scoped>\n",
       "    .dataframe tbody tr th:only-of-type {\n",
       "        vertical-align: middle;\n",
       "    }\n",
       "\n",
       "    .dataframe tbody tr th {\n",
       "        vertical-align: top;\n",
       "    }\n",
       "\n",
       "    .dataframe thead th {\n",
       "        text-align: right;\n",
       "    }\n",
       "</style>\n",
       "<table border=\"1\" class=\"dataframe\">\n",
       "  <thead>\n",
       "    <tr style=\"text-align: right;\">\n",
       "      <th></th>\n",
       "      <th>Name</th>\n",
       "      <th>Domain</th>\n",
       "      <th>Symbol</th>\n",
       "      <th>Age</th>\n",
       "    </tr>\n",
       "  </thead>\n",
       "  <tbody>\n",
       "    <tr>\n",
       "      <th>0</th>\n",
       "      <td>Zeus</td>\n",
       "      <td>King of the Gods</td>\n",
       "      <td>Thunderbolt</td>\n",
       "      <td>10000</td>\n",
       "    </tr>\n",
       "  </tbody>\n",
       "</table>\n",
       "</div>"
      ],
      "text/plain": [
       "   Name            Domain       Symbol    Age\n",
       "0  Zeus  King of the Gods  Thunderbolt  10000"
      ]
     },
     "execution_count": 21,
     "metadata": {},
     "output_type": "execute_result"
    }
   ],
   "source": [
    "task4"
   ]
  },
  {
   "cell_type": "code",
   "execution_count": 28,
   "id": "a2389f1f",
   "metadata": {},
   "outputs": [
    {
     "name": "stdout",
     "output_type": "stream",
     "text": [
      "God\n"
     ]
    }
   ],
   "source": [
    "if greek_gods['Name'].isin(task4.Name).any():\n",
    "    print('God')\n",
    "else:\n",
    "    print('Goddess')"
   ]
  },
  {
   "cell_type": "code",
   "execution_count": 29,
   "id": "a6702e71",
   "metadata": {},
   "outputs": [],
   "source": [
    "#Question5:Adding a new column named Age_group"
   ]
  },
  {
   "cell_type": "code",
   "execution_count": 31,
   "id": "fe7d2ce2",
   "metadata": {},
   "outputs": [],
   "source": [
    "greek_gods['Age_Group']=greek_gods.Age.apply(lambda x:\"Young\" if x<=5000 else \"Middle-Aged\" if x<=8000 else \"Old\")"
   ]
  },
  {
   "cell_type": "code",
   "execution_count": 32,
   "id": "c489d2be",
   "metadata": {},
   "outputs": [
    {
     "data": {
      "text/html": [
       "<div>\n",
       "<style scoped>\n",
       "    .dataframe tbody tr th:only-of-type {\n",
       "        vertical-align: middle;\n",
       "    }\n",
       "\n",
       "    .dataframe tbody tr th {\n",
       "        vertical-align: top;\n",
       "    }\n",
       "\n",
       "    .dataframe thead th {\n",
       "        text-align: right;\n",
       "    }\n",
       "</style>\n",
       "<table border=\"1\" class=\"dataframe\">\n",
       "  <thead>\n",
       "    <tr style=\"text-align: right;\">\n",
       "      <th></th>\n",
       "      <th>Name</th>\n",
       "      <th>Domain</th>\n",
       "      <th>Symbol</th>\n",
       "      <th>Age</th>\n",
       "      <th>Age_Group</th>\n",
       "    </tr>\n",
       "  </thead>\n",
       "  <tbody>\n",
       "    <tr>\n",
       "      <th>0</th>\n",
       "      <td>Zeus</td>\n",
       "      <td>King of the Gods</td>\n",
       "      <td>Thunderbolt</td>\n",
       "      <td>10000</td>\n",
       "      <td>Old</td>\n",
       "    </tr>\n",
       "    <tr>\n",
       "      <th>1</th>\n",
       "      <td>Poseidon</td>\n",
       "      <td>God of the Sea</td>\n",
       "      <td>Trident</td>\n",
       "      <td>9000</td>\n",
       "      <td>Old</td>\n",
       "    </tr>\n",
       "    <tr>\n",
       "      <th>2</th>\n",
       "      <td>Hera</td>\n",
       "      <td>Queen of the Gods</td>\n",
       "      <td>Peacock</td>\n",
       "      <td>8500</td>\n",
       "      <td>Old</td>\n",
       "    </tr>\n",
       "    <tr>\n",
       "      <th>3</th>\n",
       "      <td>Athena</td>\n",
       "      <td>Goddess of Wisdom</td>\n",
       "      <td>Owl</td>\n",
       "      <td>8000</td>\n",
       "      <td>Middle-Aged</td>\n",
       "    </tr>\n",
       "    <tr>\n",
       "      <th>4</th>\n",
       "      <td>Hades</td>\n",
       "      <td>God of the Underworld</td>\n",
       "      <td>Helmet</td>\n",
       "      <td>9500</td>\n",
       "      <td>Old</td>\n",
       "    </tr>\n",
       "  </tbody>\n",
       "</table>\n",
       "</div>"
      ],
      "text/plain": [
       "       Name                 Domain       Symbol    Age    Age_Group\n",
       "0      Zeus       King of the Gods  Thunderbolt  10000          Old\n",
       "1  Poseidon         God of the Sea      Trident   9000          Old\n",
       "2      Hera      Queen of the Gods      Peacock   8500          Old\n",
       "3    Athena      Goddess of Wisdom          Owl   8000  Middle-Aged\n",
       "4     Hades  God of the Underworld       Helmet   9500          Old"
      ]
     },
     "execution_count": 32,
     "metadata": {},
     "output_type": "execute_result"
    }
   ],
   "source": [
    "greek_gods"
   ]
  },
  {
   "cell_type": "code",
   "execution_count": 33,
   "id": "8c5831ba",
   "metadata": {},
   "outputs": [],
   "source": [
    "greek_goddess['Age_Group']=greek_goddess.Age.apply(lambda x:\"Young\" if x<=5000 else \"Middle-Aged\" if x<=8000 else \"Old\")"
   ]
  },
  {
   "cell_type": "code",
   "execution_count": 34,
   "id": "687ab3d6",
   "metadata": {},
   "outputs": [
    {
     "data": {
      "text/html": [
       "<div>\n",
       "<style scoped>\n",
       "    .dataframe tbody tr th:only-of-type {\n",
       "        vertical-align: middle;\n",
       "    }\n",
       "\n",
       "    .dataframe tbody tr th {\n",
       "        vertical-align: top;\n",
       "    }\n",
       "\n",
       "    .dataframe thead th {\n",
       "        text-align: right;\n",
       "    }\n",
       "</style>\n",
       "<table border=\"1\" class=\"dataframe\">\n",
       "  <thead>\n",
       "    <tr style=\"text-align: right;\">\n",
       "      <th></th>\n",
       "      <th>Name</th>\n",
       "      <th>Domain</th>\n",
       "      <th>Symbol</th>\n",
       "      <th>Age</th>\n",
       "      <th>Age_Group</th>\n",
       "    </tr>\n",
       "  </thead>\n",
       "  <tbody>\n",
       "    <tr>\n",
       "      <th>0</th>\n",
       "      <td>Aphrodite</td>\n",
       "      <td>Goddess of Love</td>\n",
       "      <td>Dove</td>\n",
       "      <td>7000</td>\n",
       "      <td>Middle-Aged</td>\n",
       "    </tr>\n",
       "    <tr>\n",
       "      <th>1</th>\n",
       "      <td>Artemis</td>\n",
       "      <td>Goddess of the Hunt</td>\n",
       "      <td>Bow and Arrow</td>\n",
       "      <td>7500</td>\n",
       "      <td>Middle-Aged</td>\n",
       "    </tr>\n",
       "    <tr>\n",
       "      <th>2</th>\n",
       "      <td>Demeter</td>\n",
       "      <td>Goddess of Agriculture</td>\n",
       "      <td>Wheat</td>\n",
       "      <td>8000</td>\n",
       "      <td>Middle-Aged</td>\n",
       "    </tr>\n",
       "    <tr>\n",
       "      <th>3</th>\n",
       "      <td>Hestia</td>\n",
       "      <td>Goddess of the Hearth</td>\n",
       "      <td>Fire</td>\n",
       "      <td>8200</td>\n",
       "      <td>Old</td>\n",
       "    </tr>\n",
       "    <tr>\n",
       "      <th>4</th>\n",
       "      <td>Persephone</td>\n",
       "      <td>Queen of the Underworld</td>\n",
       "      <td>Pomegranate</td>\n",
       "      <td>7800</td>\n",
       "      <td>Middle-Aged</td>\n",
       "    </tr>\n",
       "  </tbody>\n",
       "</table>\n",
       "</div>"
      ],
      "text/plain": [
       "         Name                   Domain         Symbol   Age    Age_Group\n",
       "0   Aphrodite          Goddess of Love           Dove  7000  Middle-Aged\n",
       "1     Artemis      Goddess of the Hunt  Bow and Arrow  7500  Middle-Aged\n",
       "2     Demeter   Goddess of Agriculture          Wheat  8000  Middle-Aged\n",
       "3      Hestia    Goddess of the Hearth           Fire  8200          Old\n",
       "4  Persephone  Queen of the Underworld    Pomegranate  7800  Middle-Aged"
      ]
     },
     "execution_count": 34,
     "metadata": {},
     "output_type": "execute_result"
    }
   ],
   "source": [
    "greek_goddess"
   ]
  },
  {
   "cell_type": "code",
   "execution_count": 35,
   "id": "735d18af",
   "metadata": {},
   "outputs": [],
   "source": [
    "#Question6:Comparing average age of gods and goddess"
   ]
  },
  {
   "cell_type": "code",
   "execution_count": 36,
   "id": "cf0e49c8",
   "metadata": {},
   "outputs": [
    {
     "name": "stdout",
     "output_type": "stream",
     "text": [
      "Greek Gods tends to be older\n"
     ]
    }
   ],
   "source": [
    "if greek_gods.Age.mean()>greek_goddess.Age.mean():\n",
    "    print(\"Greek Gods tends to be older\")\n",
    "elif greek_gods.Age.mean()<greek_goddess.Age.mean():\n",
    "    print(\"Greek Goddess tends to be older\")\n",
    "else:\n",
    "    print(\"Around same age\")"
   ]
  },
  {
   "cell_type": "code",
   "execution_count": 37,
   "id": "ff97379e",
   "metadata": {},
   "outputs": [],
   "source": [
    "#Question7:using while loop to iterate over the ages of merged table and printing names with age greater yhan 8000"
   ]
  },
  {
   "cell_type": "code",
   "execution_count": 44,
   "id": "7eb42617",
   "metadata": {},
   "outputs": [
    {
     "name": "stdout",
     "output_type": "stream",
     "text": [
      "Zeus\n",
      "Poseidon\n",
      "Hera\n",
      "Hades\n",
      "Hestia\n"
     ]
    }
   ],
   "source": [
    "for x in range(len(merged_df)):\n",
    "    if merged_df.loc[x,'Age']>8000:\n",
    "        print(merged_df.loc[x,'Name'])\n",
    "        "
   ]
  },
  {
   "cell_type": "code",
   "execution_count": 45,
   "id": "d45b6df8",
   "metadata": {},
   "outputs": [],
   "source": [
    "#Question8:Write a Python program to find the oldest god/goddess from the merged table (after merging the gods and goddesses tables) by iterating through the \"Age\" column using a while loop. Print out the name of the oldest god/goddess and their age.)"
   ]
  },
  {
   "cell_type": "code",
   "execution_count": 49,
   "id": "e2a8b9d1",
   "metadata": {},
   "outputs": [
    {
     "name": "stdout",
     "output_type": "stream",
     "text": [
      "Zeus\n",
      "10000\n"
     ]
    }
   ],
   "source": [
    "i=1\n",
    "god_name=merged_df.loc[0,'Name']\n",
    "god_age=merged_df.loc[0,'Age']\n",
    "while i<len(merged_df):\n",
    "    if merged_df.loc[i,'Age']>god_age:\n",
    "        god_age=merged_df.loc[i,'Age']\n",
    "        god_name=merged_df.loc[i,'Name']\n",
    "    i=i+1\n",
    "print(god_name)\n",
    "print(god_age)\n",
    "    "
   ]
  }
 ],
 "metadata": {
  "kernelspec": {
   "display_name": "Python 3 (ipykernel)",
   "language": "python",
   "name": "python3"
  },
  "language_info": {
   "codemirror_mode": {
    "name": "ipython",
    "version": 3
   },
   "file_extension": ".py",
   "mimetype": "text/x-python",
   "name": "python",
   "nbconvert_exporter": "python",
   "pygments_lexer": "ipython3",
   "version": "3.9.5"
  }
 },
 "nbformat": 4,
 "nbformat_minor": 5
}
